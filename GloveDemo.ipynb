{
 "cells": [
  {
   "cell_type": "code",
   "execution_count": null,
   "metadata": {},
   "outputs": [],
   "source": [
    "import os\n",
    "import pandas as pd\n",
    "import numpy as np"
   ]
  },
  {
   "cell_type": "code",
   "execution_count": null,
   "metadata": {},
   "outputs": [],
   "source": [
    "split_data = pd.read_csv('Dataset/split_dataset.csv')"
   ]
  },
  {
   "cell_type": "code",
   "execution_count": null,
   "metadata": {
    "scrolled": true
   },
   "outputs": [],
   "source": [
    "# Load the whole embedding matrix\n",
    "embeddings_index = {}\n",
    "with open('Glove/glove.twitter.27B.50d.txt', encoding='utf-8') as f:\n",
    "    i = 0\n",
    "    for line in f:\n",
    "        values = line.split()\n",
    "        word = values[0]\n",
    "        embed = np.array(values[1:], dtype=np.float32)\n",
    "        embeddings_index[word] = embed\n",
    "        if i==0:\n",
    "            print(values)\n",
    "            print(word)\n",
    "            print(embed)\n",
    "            print(embeddings_index)\n",
    "            i += 1\n",
    "    "
   ]
  },
  {
   "cell_type": "code",
   "execution_count": null,
   "metadata": {},
   "outputs": [],
   "source": [
    "# Get the unique words that appear in dataset:\n",
    "data = {\n",
    "  'Names': ['john','jay','dan','nathan','bob'],\n",
    "  'Colors': ['yellow', 'red','green'],\n",
    "  'Places': ['tokyo','bejing','washington','mumbai'],\n",
    "}\n",
    "# Words -> category\n",
    "categories = {word: key for key, words in data.items() for word in words}\n"
   ]
  },
  {
   "cell_type": "code",
   "execution_count": null,
   "metadata": {},
   "outputs": [],
   "source": [
    "# Embeddings for available words\n",
    "data_embeddings = {key: value for key, value in embeddings_index.items() if key in categories.keys()}\n"
   ]
  }
 ],
 "metadata": {
  "kernelspec": {
   "display_name": "Python 3",
   "language": "python",
   "name": "python3"
  },
  "language_info": {
   "codemirror_mode": {
    "name": "ipython",
    "version": 3
   },
   "file_extension": ".py",
   "mimetype": "text/x-python",
   "name": "python",
   "nbconvert_exporter": "python",
   "pygments_lexer": "ipython3",
   "version": "3.5.5"
  }
 },
 "nbformat": 4,
 "nbformat_minor": 2
}
