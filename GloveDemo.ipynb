{
 "cells": [
  {
   "cell_type": "code",
   "execution_count": 17,
   "metadata": {},
   "outputs": [],
   "source": [
    "import os\n",
    "import pandas as pd\n",
    "import numpy as np"
   ]
  },
  {
   "cell_type": "code",
   "execution_count": 11,
   "metadata": {},
   "outputs": [],
   "source": [
    "split_data = pd.read_csv('Dataset/split_dataset.csv')"
   ]
  },
  {
   "cell_type": "code",
   "execution_count": 38,
   "metadata": {
    "scrolled": false
   },
   "outputs": [
    {
     "name": "stdout",
     "output_type": "stream",
     "text": [
      "['<user>', '0.78704', '0.72151', '0.29148', '-0.056527', '0.31683', '0.47172', '0.023461', '0.69568', '0.20782', '0.60985', '-0.22386', '0.7481', '-2.6208', '0.20117', '-0.48104', '0.12897', '0.035239', '-0.24486', '-0.36088', '0.026686', '0.28978', '-0.10698', '-0.34621', '0.021053', '0.54514', '-1.0958', '-0.274', '0.2233', '1.0827', '-0.029018', '-0.84029', '0.58619', '-0.36511', '0.34016', '0.89615', '0.32757', '0.24267', '0.68404', '-0.34374', '0.13583', '-2.2162', '-0.42537', '0.46157', '0.88626', '-0.22014', '0.025599', '-0.38615', '0.080107', '-0.075323', '-0.61461']\n",
      "<user>\n",
      "[ 0.78704   0.72151   0.29148  -0.056527  0.31683   0.47172   0.023461\n",
      "  0.69568   0.20782   0.60985  -0.22386   0.7481   -2.6208    0.20117\n",
      " -0.48104   0.12897   0.035239 -0.24486  -0.36088   0.026686  0.28978\n",
      " -0.10698  -0.34621   0.021053  0.54514  -1.0958   -0.274     0.2233\n",
      "  1.0827   -0.029018 -0.84029   0.58619  -0.36511   0.34016   0.89615\n",
      "  0.32757   0.24267   0.68404  -0.34374   0.13583  -2.2162   -0.42537\n",
      "  0.46157   0.88626  -0.22014   0.025599 -0.38615   0.080107 -0.075323\n",
      " -0.61461 ]\n",
      "{'<user>': array([ 0.78704 ,  0.72151 ,  0.29148 , -0.056527,  0.31683 ,  0.47172 ,\n",
      "        0.023461,  0.69568 ,  0.20782 ,  0.60985 , -0.22386 ,  0.7481  ,\n",
      "       -2.6208  ,  0.20117 , -0.48104 ,  0.12897 ,  0.035239, -0.24486 ,\n",
      "       -0.36088 ,  0.026686,  0.28978 , -0.10698 , -0.34621 ,  0.021053,\n",
      "        0.54514 , -1.0958  , -0.274   ,  0.2233  ,  1.0827  , -0.029018,\n",
      "       -0.84029 ,  0.58619 , -0.36511 ,  0.34016 ,  0.89615 ,  0.32757 ,\n",
      "        0.24267 ,  0.68404 , -0.34374 ,  0.13583 , -2.2162  , -0.42537 ,\n",
      "        0.46157 ,  0.88626 , -0.22014 ,  0.025599, -0.38615 ,  0.080107,\n",
      "       -0.075323, -0.61461 ], dtype=float32)}\n"
     ]
    }
   ],
   "source": [
    "# Load the whole embedding matrix\n",
    "embeddings_index = {}\n",
    "with open('Glove/glove.twitter.27B.50d.txt', encoding='utf-8') as f:\n",
    "    i = 0\n",
    "    for line in f:\n",
    "        values = line.split()\n",
    "        word = values[0]\n",
    "        embed = np.array(values[1:], dtype=np.float32)\n",
    "        embeddings_index[word] = embed\n",
    "        if i==0:\n",
    "            print(values)\n",
    "            print(word)\n",
    "            print(embed)\n",
    "            print(embeddings_index)\n",
    "            i += 1\n",
    "    "
   ]
  },
  {
   "cell_type": "code",
   "execution_count": 39,
   "metadata": {},
   "outputs": [
    {
     "name": "stdout",
     "output_type": "stream",
     "text": [
      "Loaded 1193514 word vectors.\n"
     ]
    },
    {
     "ename": "NameError",
     "evalue": "name 'categories' is not defined",
     "output_type": "error",
     "traceback": [
      "\u001b[1;31m---------------------------------------------------------------------------\u001b[0m",
      "\u001b[1;31mNameError\u001b[0m                                 Traceback (most recent call last)",
      "\u001b[1;32m<ipython-input-39-aedc0bb82bf2>\u001b[0m in \u001b[0;36m<module>\u001b[1;34m()\u001b[0m\n\u001b[0;32m      1\u001b[0m \u001b[0mprint\u001b[0m\u001b[1;33m(\u001b[0m\u001b[1;34m'Loaded %s word vectors.'\u001b[0m \u001b[1;33m%\u001b[0m \u001b[0mlen\u001b[0m\u001b[1;33m(\u001b[0m\u001b[0membeddings_index\u001b[0m\u001b[1;33m)\u001b[0m\u001b[1;33m)\u001b[0m\u001b[1;33m\u001b[0m\u001b[0m\n\u001b[0;32m      2\u001b[0m \u001b[1;31m# Embeddings for available words\u001b[0m\u001b[1;33m\u001b[0m\u001b[1;33m\u001b[0m\u001b[0m\n\u001b[1;32m----> 3\u001b[1;33m \u001b[0mdata_embeddings\u001b[0m \u001b[1;33m=\u001b[0m \u001b[1;33m{\u001b[0m\u001b[0mkey\u001b[0m\u001b[1;33m:\u001b[0m \u001b[0mvalue\u001b[0m \u001b[1;32mfor\u001b[0m \u001b[0mkey\u001b[0m\u001b[1;33m,\u001b[0m \u001b[0mvalue\u001b[0m \u001b[1;32min\u001b[0m \u001b[0membeddings_index\u001b[0m\u001b[1;33m.\u001b[0m\u001b[0mitems\u001b[0m\u001b[1;33m(\u001b[0m\u001b[1;33m)\u001b[0m \u001b[1;32mif\u001b[0m \u001b[0mkey\u001b[0m \u001b[1;32min\u001b[0m \u001b[0mcategories\u001b[0m\u001b[1;33m.\u001b[0m\u001b[0mkeys\u001b[0m\u001b[1;33m(\u001b[0m\u001b[1;33m)\u001b[0m\u001b[1;33m}\u001b[0m\u001b[1;33m\u001b[0m\u001b[0m\n\u001b[0m",
      "\u001b[1;32m<ipython-input-39-aedc0bb82bf2>\u001b[0m in \u001b[0;36m<dictcomp>\u001b[1;34m(.0)\u001b[0m\n\u001b[0;32m      1\u001b[0m \u001b[0mprint\u001b[0m\u001b[1;33m(\u001b[0m\u001b[1;34m'Loaded %s word vectors.'\u001b[0m \u001b[1;33m%\u001b[0m \u001b[0mlen\u001b[0m\u001b[1;33m(\u001b[0m\u001b[0membeddings_index\u001b[0m\u001b[1;33m)\u001b[0m\u001b[1;33m)\u001b[0m\u001b[1;33m\u001b[0m\u001b[0m\n\u001b[0;32m      2\u001b[0m \u001b[1;31m# Embeddings for available words\u001b[0m\u001b[1;33m\u001b[0m\u001b[1;33m\u001b[0m\u001b[0m\n\u001b[1;32m----> 3\u001b[1;33m \u001b[0mdata_embeddings\u001b[0m \u001b[1;33m=\u001b[0m \u001b[1;33m{\u001b[0m\u001b[0mkey\u001b[0m\u001b[1;33m:\u001b[0m \u001b[0mvalue\u001b[0m \u001b[1;32mfor\u001b[0m \u001b[0mkey\u001b[0m\u001b[1;33m,\u001b[0m \u001b[0mvalue\u001b[0m \u001b[1;32min\u001b[0m \u001b[0membeddings_index\u001b[0m\u001b[1;33m.\u001b[0m\u001b[0mitems\u001b[0m\u001b[1;33m(\u001b[0m\u001b[1;33m)\u001b[0m \u001b[1;32mif\u001b[0m \u001b[0mkey\u001b[0m \u001b[1;32min\u001b[0m \u001b[0mcategories\u001b[0m\u001b[1;33m.\u001b[0m\u001b[0mkeys\u001b[0m\u001b[1;33m(\u001b[0m\u001b[1;33m)\u001b[0m\u001b[1;33m}\u001b[0m\u001b[1;33m\u001b[0m\u001b[0m\n\u001b[0m",
      "\u001b[1;31mNameError\u001b[0m: name 'categories' is not defined"
     ]
    }
   ],
   "source": []
  },
  {
   "cell_type": "code",
   "execution_count": 46,
   "metadata": {},
   "outputs": [
    {
     "data": {
      "text/plain": [
       "{'bejing': 'Places',\n",
       " 'bob': 'Names',\n",
       " 'dan': 'Names',\n",
       " 'green': 'Colors',\n",
       " 'jay': 'Names',\n",
       " 'john': 'Names',\n",
       " 'mumbai': 'Places',\n",
       " 'nathan': 'Names',\n",
       " 'red': 'Colors',\n",
       " 'tokyo': 'Places',\n",
       " 'washington': 'Places',\n",
       " 'yellow': 'Colors'}"
      ]
     },
     "execution_count": 46,
     "metadata": {},
     "output_type": "execute_result"
    }
   ],
   "source": []
  },
  {
   "cell_type": "code",
   "execution_count": 47,
   "metadata": {},
   "outputs": [
    {
     "name": "stdout",
     "output_type": "stream",
     "text": [
      "Loaded 1193514 word vectors.\n"
     ]
    }
   ],
   "source": [
    "# Embeddings for available words\n",
    "data_embeddings = {key: value for key, value in embeddings_index.items() if key in categories.keys()}\n"
   ]
  },
  {
   "cell_type": "code",
   "execution_count": null,
   "metadata": {},
   "outputs": [],
   "source": []
  }
 ],
 "metadata": {
  "kernelspec": {
   "display_name": "Python 3",
   "language": "python",
   "name": "python3"
  },
  "language_info": {
   "codemirror_mode": {
    "name": "ipython",
    "version": 3
   },
   "file_extension": ".py",
   "mimetype": "text/x-python",
   "name": "python",
   "nbconvert_exporter": "python",
   "pygments_lexer": "ipython3",
   "version": "3.5.5"
  }
 },
 "nbformat": 4,
 "nbformat_minor": 2
}
