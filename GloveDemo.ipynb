{
 "cells": [
  {
   "cell_type": "code",
   "execution_count": 1,
   "metadata": {},
   "outputs": [],
   "source": [
    "import os\n",
    "import pandas as pd\n",
    "import numpy as np"
   ]
  },
  {
   "cell_type": "code",
   "execution_count": null,
   "metadata": {},
   "outputs": [],
   "source": [
    "split_data = pd.read_csv('Dataset/split_dataset.csv')"
   ]
  },
  {
   "cell_type": "code",
   "execution_count": 2,
   "metadata": {
    "scrolled": true
   },
   "outputs": [
    {
     "name": "stdout",
     "output_type": "stream",
     "text": [
      "['<user>', '0.78704', '0.72151', '0.29148', '-0.056527', '0.31683', '0.47172', '0.023461', '0.69568', '0.20782', '0.60985', '-0.22386', '0.7481', '-2.6208', '0.20117', '-0.48104', '0.12897', '0.035239', '-0.24486', '-0.36088', '0.026686', '0.28978', '-0.10698', '-0.34621', '0.021053', '0.54514', '-1.0958', '-0.274', '0.2233', '1.0827', '-0.029018', '-0.84029', '0.58619', '-0.36511', '0.34016', '0.89615', '0.32757', '0.24267', '0.68404', '-0.34374', '0.13583', '-2.2162', '-0.42537', '0.46157', '0.88626', '-0.22014', '0.025599', '-0.38615', '0.080107', '-0.075323', '-0.61461']\n",
      "<user>\n",
      "[ 0.78704   0.72151   0.29148  -0.056527  0.31683   0.47172   0.023461\n",
      "  0.69568   0.20782   0.60985  -0.22386   0.7481   -2.6208    0.20117\n",
      " -0.48104   0.12897   0.035239 -0.24486  -0.36088   0.026686  0.28978\n",
      " -0.10698  -0.34621   0.021053  0.54514  -1.0958   -0.274     0.2233\n",
      "  1.0827   -0.029018 -0.84029   0.58619  -0.36511   0.34016   0.89615\n",
      "  0.32757   0.24267   0.68404  -0.34374   0.13583  -2.2162   -0.42537\n",
      "  0.46157   0.88626  -0.22014   0.025599 -0.38615   0.080107 -0.075323\n",
      " -0.61461 ]\n",
      "{'<user>': array([ 0.78704 ,  0.72151 ,  0.29148 , -0.056527,  0.31683 ,  0.47172 ,\n",
      "        0.023461,  0.69568 ,  0.20782 ,  0.60985 , -0.22386 ,  0.7481  ,\n",
      "       -2.6208  ,  0.20117 , -0.48104 ,  0.12897 ,  0.035239, -0.24486 ,\n",
      "       -0.36088 ,  0.026686,  0.28978 , -0.10698 , -0.34621 ,  0.021053,\n",
      "        0.54514 , -1.0958  , -0.274   ,  0.2233  ,  1.0827  , -0.029018,\n",
      "       -0.84029 ,  0.58619 , -0.36511 ,  0.34016 ,  0.89615 ,  0.32757 ,\n",
      "        0.24267 ,  0.68404 , -0.34374 ,  0.13583 , -2.2162  , -0.42537 ,\n",
      "        0.46157 ,  0.88626 , -0.22014 ,  0.025599, -0.38615 ,  0.080107,\n",
      "       -0.075323, -0.61461 ], dtype=float32)}\n"
     ]
    }
   ],
   "source": [
    "# Load the whole embedding matrix\n",
    "embeddings_index = {}\n",
    "with open('Glove/glove.twitter.27B.50d.txt', encoding='utf-8') as f:\n",
    "    i = 0\n",
    "    for line in f:\n",
    "        values = line.split()\n",
    "        word = values[0]\n",
    "        embed = np.array(values[1:], dtype=np.float32)\n",
    "        embeddings_index[word] = embed\n",
    "        if i==0:\n",
    "            print(values)\n",
    "            print(word)\n",
    "            print(embed)\n",
    "            print(embeddings_index)\n",
    "            i += 1\n",
    "    "
   ]
  },
  {
   "cell_type": "code",
   "execution_count": null,
   "metadata": {},
   "outputs": [],
   "source": [
    "# Get the unique words that appear in dataset:\n",
    "data = {\n",
    "  'Names': ['john','jay','dan','nathan','bob'],\n",
    "  'Colors': ['yellow', 'red','green'],\n",
    "  'Places': ['tokyo','bejing','washington','mumbai'],\n",
    "}\n",
    "# Words -> category\n",
    "categories = {word: key for key, words in data.items() for word in words}\n"
   ]
  },
  {
   "cell_type": "code",
   "execution_count": null,
   "metadata": {},
   "outputs": [],
   "source": [
    "a = \"my name is daniel\""
   ]
  },
  {
   "cell_type": "code",
   "execution_count": 6,
   "metadata": {},
   "outputs": [
    {
     "data": {
      "text/plain": [
       "array([-9.3921e-02,  1.4117e-02,  3.5853e-01,  5.5280e-01, -1.0460e+00,\n",
       "       -1.0306e-01,  1.5248e+00,  5.5995e-01, -3.6215e-01,  4.2666e-02,\n",
       "        4.4484e-01, -7.8687e-01, -2.8848e+00, -1.5044e-01, -8.4005e-01,\n",
       "        2.0253e-01, -3.2213e-01,  4.2520e-01, -7.6179e-01, -2.2956e-01,\n",
       "       -2.2354e-01,  1.1171e-01, -5.7867e-01, -2.6532e-01,  4.2191e-01,\n",
       "        5.6235e-01,  1.1787e-01, -2.7527e-01,  5.7725e-01, -3.2167e-01,\n",
       "       -6.4740e-01, -5.6196e-01,  9.1977e-03,  1.7874e-01, -6.1939e-02,\n",
       "        3.3540e-01,  3.4097e-02,  1.6443e-03,  5.0388e-01,  3.3271e-01,\n",
       "       -5.8413e-01, -2.0901e-01,  4.6282e-01, -1.8417e-01, -2.7715e-01,\n",
       "        2.5468e-01, -3.3402e-01,  1.5189e-01,  7.6701e-02,  9.2128e-01],\n",
       "      dtype=float32)"
      ]
     },
     "execution_count": 6,
     "metadata": {},
     "output_type": "execute_result"
    }
   ],
   "source": [
    "embeddings_index['goodbye']"
   ]
  },
  {
   "cell_type": "code",
   "execution_count": null,
   "metadata": {},
   "outputs": [],
   "source": [
    "# Embeddings for available words\n",
    "data_embeddings = {key: value for key, value in embeddings_index.items() if key in categories.keys()}\n"
   ]
  }
 ],
 "metadata": {
  "kernelspec": {
   "display_name": "Python 3",
   "language": "python",
   "name": "python3"
  },
  "language_info": {
   "codemirror_mode": {
    "name": "ipython",
    "version": 3
   },
   "file_extension": ".py",
   "mimetype": "text/x-python",
   "name": "python",
   "nbconvert_exporter": "python",
   "pygments_lexer": "ipython3",
   "version": "3.5.5"
  }
 },
 "nbformat": 4,
 "nbformat_minor": 2
}
